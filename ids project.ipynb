{
 "cells": [
  {
   "cell_type": "code",
   "execution_count": 180,
   "metadata": {},
   "outputs": [],
   "source": [
    "import pandas as pd "
   ]
  },
  {
   "cell_type": "code",
   "execution_count": 181,
   "metadata": {},
   "outputs": [],
   "source": [
    "import matplotlib.pyplot as plt"
   ]
  },
  {
   "cell_type": "code",
   "execution_count": 182,
   "metadata": {},
   "outputs": [
    {
     "data": {
      "text/html": [
       "<div>\n",
       "<style scoped>\n",
       "    .dataframe tbody tr th:only-of-type {\n",
       "        vertical-align: middle;\n",
       "    }\n",
       "\n",
       "    .dataframe tbody tr th {\n",
       "        vertical-align: top;\n",
       "    }\n",
       "\n",
       "    .dataframe thead th {\n",
       "        text-align: right;\n",
       "    }\n",
       "</style>\n",
       "<table border=\"1\" class=\"dataframe\">\n",
       "  <thead>\n",
       "    <tr style=\"text-align: right;\">\n",
       "      <th></th>\n",
       "      <th>User_ID</th>\n",
       "      <th>Gender</th>\n",
       "      <th>Age</th>\n",
       "      <th>Marital_Status</th>\n",
       "      <th>Website_Activity</th>\n",
       "      <th>Browsed_Electronics_12Mo</th>\n",
       "      <th>Bought_Electronics_12Mo</th>\n",
       "      <th>Bought_Digital_Media_18Mo</th>\n",
       "      <th>Bought_Digital_Books</th>\n",
       "      <th>Payment_Method</th>\n",
       "    </tr>\n",
       "  </thead>\n",
       "  <tbody>\n",
       "    <tr>\n",
       "      <th>0</th>\n",
       "      <td>15083</td>\n",
       "      <td>F</td>\n",
       "      <td>51</td>\n",
       "      <td>S</td>\n",
       "      <td>Seldom</td>\n",
       "      <td>Yes</td>\n",
       "      <td>Yes</td>\n",
       "      <td>No</td>\n",
       "      <td>Yes</td>\n",
       "      <td>'Credit Card'</td>\n",
       "    </tr>\n",
       "    <tr>\n",
       "      <th>1</th>\n",
       "      <td>91499</td>\n",
       "      <td>M</td>\n",
       "      <td>47</td>\n",
       "      <td>M</td>\n",
       "      <td>Seldom</td>\n",
       "      <td>Yes</td>\n",
       "      <td>Yes</td>\n",
       "      <td>Yes</td>\n",
       "      <td>Yes</td>\n",
       "      <td>'Monthly Billing'</td>\n",
       "    </tr>\n",
       "    <tr>\n",
       "      <th>2</th>\n",
       "      <td>79896</td>\n",
       "      <td>F</td>\n",
       "      <td>66</td>\n",
       "      <td>M</td>\n",
       "      <td>Frequent</td>\n",
       "      <td>No</td>\n",
       "      <td>Yes</td>\n",
       "      <td>No</td>\n",
       "      <td>Yes</td>\n",
       "      <td>'Website Account'</td>\n",
       "    </tr>\n",
       "    <tr>\n",
       "      <th>3</th>\n",
       "      <td>34616</td>\n",
       "      <td>M</td>\n",
       "      <td>23</td>\n",
       "      <td>S</td>\n",
       "      <td>Seldom</td>\n",
       "      <td>Yes</td>\n",
       "      <td>No</td>\n",
       "      <td>Yes</td>\n",
       "      <td>No</td>\n",
       "      <td>'Bank Transfer'</td>\n",
       "    </tr>\n",
       "    <tr>\n",
       "      <th>4</th>\n",
       "      <td>40897</td>\n",
       "      <td>M</td>\n",
       "      <td>23</td>\n",
       "      <td>M</td>\n",
       "      <td>Regular</td>\n",
       "      <td>Yes</td>\n",
       "      <td>Yes</td>\n",
       "      <td>Yes</td>\n",
       "      <td>Yes</td>\n",
       "      <td>'Website Account'</td>\n",
       "    </tr>\n",
       "    <tr>\n",
       "      <th>...</th>\n",
       "      <td>...</td>\n",
       "      <td>...</td>\n",
       "      <td>...</td>\n",
       "      <td>...</td>\n",
       "      <td>...</td>\n",
       "      <td>...</td>\n",
       "      <td>...</td>\n",
       "      <td>...</td>\n",
       "      <td>...</td>\n",
       "      <td>...</td>\n",
       "    </tr>\n",
       "    <tr>\n",
       "      <th>295</th>\n",
       "      <td>88464</td>\n",
       "      <td>M</td>\n",
       "      <td>46</td>\n",
       "      <td>S</td>\n",
       "      <td>Seldom</td>\n",
       "      <td>Yes</td>\n",
       "      <td>Yes</td>\n",
       "      <td>Yes</td>\n",
       "      <td>Yes</td>\n",
       "      <td>'Bank Transfer'</td>\n",
       "    </tr>\n",
       "    <tr>\n",
       "      <th>296</th>\n",
       "      <td>60321</td>\n",
       "      <td>F</td>\n",
       "      <td>48</td>\n",
       "      <td>S</td>\n",
       "      <td>Regular</td>\n",
       "      <td>Yes</td>\n",
       "      <td>Yes</td>\n",
       "      <td>Yes</td>\n",
       "      <td>No</td>\n",
       "      <td>'Bank Transfer'</td>\n",
       "    </tr>\n",
       "    <tr>\n",
       "      <th>297</th>\n",
       "      <td>18836</td>\n",
       "      <td>F</td>\n",
       "      <td>51</td>\n",
       "      <td>M</td>\n",
       "      <td>Seldom</td>\n",
       "      <td>Yes</td>\n",
       "      <td>Yes</td>\n",
       "      <td>Yes</td>\n",
       "      <td>No</td>\n",
       "      <td>'Bank Transfer'</td>\n",
       "    </tr>\n",
       "    <tr>\n",
       "      <th>298</th>\n",
       "      <td>45102</td>\n",
       "      <td>M</td>\n",
       "      <td>60</td>\n",
       "      <td>S</td>\n",
       "      <td>Seldom</td>\n",
       "      <td>Yes</td>\n",
       "      <td>No</td>\n",
       "      <td>Yes</td>\n",
       "      <td>Yes</td>\n",
       "      <td>'Bank Transfer'</td>\n",
       "    </tr>\n",
       "    <tr>\n",
       "      <th>299</th>\n",
       "      <td>47720</td>\n",
       "      <td>M</td>\n",
       "      <td>36</td>\n",
       "      <td>M</td>\n",
       "      <td>Regular</td>\n",
       "      <td>Yes</td>\n",
       "      <td>Yes</td>\n",
       "      <td>Yes</td>\n",
       "      <td>No</td>\n",
       "      <td>'Bank Transfer'</td>\n",
       "    </tr>\n",
       "  </tbody>\n",
       "</table>\n",
       "<p>300 rows × 10 columns</p>\n",
       "</div>"
      ],
      "text/plain": [
       "     User_ID Gender  Age Marital_Status Website_Activity  \\\n",
       "0      15083      F   51              S           Seldom   \n",
       "1      91499      M   47              M           Seldom   \n",
       "2      79896      F   66              M         Frequent   \n",
       "3      34616      M   23              S           Seldom   \n",
       "4      40897      M   23              M          Regular   \n",
       "..       ...    ...  ...            ...              ...   \n",
       "295    88464      M   46              S           Seldom   \n",
       "296    60321      F   48              S          Regular   \n",
       "297    18836      F   51              M           Seldom   \n",
       "298    45102      M   60              S           Seldom   \n",
       "299    47720      M   36              M          Regular   \n",
       "\n",
       "    Browsed_Electronics_12Mo Bought_Electronics_12Mo  \\\n",
       "0                        Yes                     Yes   \n",
       "1                        Yes                     Yes   \n",
       "2                         No                     Yes   \n",
       "3                        Yes                      No   \n",
       "4                        Yes                     Yes   \n",
       "..                       ...                     ...   \n",
       "295                      Yes                     Yes   \n",
       "296                      Yes                     Yes   \n",
       "297                      Yes                     Yes   \n",
       "298                      Yes                      No   \n",
       "299                      Yes                     Yes   \n",
       "\n",
       "    Bought_Digital_Media_18Mo Bought_Digital_Books     Payment_Method  \n",
       "0                          No                  Yes      'Credit Card'  \n",
       "1                         Yes                  Yes  'Monthly Billing'  \n",
       "2                          No                  Yes  'Website Account'  \n",
       "3                         Yes                   No    'Bank Transfer'  \n",
       "4                         Yes                  Yes  'Website Account'  \n",
       "..                        ...                  ...                ...  \n",
       "295                       Yes                  Yes    'Bank Transfer'  \n",
       "296                       Yes                   No    'Bank Transfer'  \n",
       "297                       Yes                   No    'Bank Transfer'  \n",
       "298                       Yes                  Yes    'Bank Transfer'  \n",
       "299                       Yes                   No    'Bank Transfer'  \n",
       "\n",
       "[300 rows x 10 columns]"
      ]
     },
     "execution_count": 182,
     "metadata": {},
     "output_type": "execute_result"
    }
   ],
   "source": [
    "data = pd.read_csv(r'C:\\Users\\DELL-LAP\\OneDrive\\سطح المكتب\\Scoring-Dataset-3.csv')\n",
    "ds = pd.DataFrame(data)\n",
    "ds\n"
   ]
  },
  {
   "cell_type": "code",
   "execution_count": 183,
   "metadata": {},
   "outputs": [
    {
     "data": {
      "text/plain": [
       "62131    4\n",
       "67603    3\n",
       "47720    3\n",
       "75473    3\n",
       "65693    3\n",
       "        ..\n",
       "15769    1\n",
       "53876    1\n",
       "93674    1\n",
       "10591    1\n",
       "22477    1\n",
       "Name: User_ID, Length: 228, dtype: int64"
      ]
     },
     "execution_count": 183,
     "metadata": {},
     "output_type": "execute_result"
    }
   ],
   "source": [
    "ds['User_ID'].value_counts()"
   ]
  },
  {
   "cell_type": "code",
   "execution_count": 184,
   "metadata": {},
   "outputs": [
    {
     "data": {
      "text/plain": [
       "0    62131\n",
       "Name: User_ID, dtype: int64"
      ]
     },
     "execution_count": 184,
     "metadata": {},
     "output_type": "execute_result"
    }
   ],
   "source": [
    "ds['User_ID'].mode()"
   ]
  },
  {
   "cell_type": "code",
   "execution_count": 185,
   "metadata": {},
   "outputs": [
    {
     "data": {
      "text/plain": [
       "M    155\n",
       "F    145\n",
       "Name: Gender, dtype: int64"
      ]
     },
     "execution_count": 185,
     "metadata": {},
     "output_type": "execute_result"
    }
   ],
   "source": [
    "ds['Gender'].value_counts()"
   ]
  },
  {
   "cell_type": "code",
   "execution_count": 186,
   "metadata": {},
   "outputs": [
    {
     "data": {
      "text/plain": [
       "0    M\n",
       "Name: Gender, dtype: object"
      ]
     },
     "execution_count": 186,
     "metadata": {},
     "output_type": "execute_result"
    }
   ],
   "source": [
    "ds['Gender'].mode()"
   ]
  },
  {
   "cell_type": "code",
   "execution_count": 187,
   "metadata": {},
   "outputs": [
    {
     "data": {
      "text/plain": [
       "47    19\n",
       "62    15\n",
       "49    12\n",
       "54    12\n",
       "51    11\n",
       "50    10\n",
       "36    10\n",
       "48    10\n",
       "46     9\n",
       "53     9\n",
       "45     9\n",
       "57     9\n",
       "44     9\n",
       "31     8\n",
       "63     7\n",
       "65     7\n",
       "33     6\n",
       "37     6\n",
       "43     6\n",
       "23     6\n",
       "61     6\n",
       "64     5\n",
       "29     5\n",
       "17     5\n",
       "67     5\n",
       "40     5\n",
       "52     5\n",
       "41     5\n",
       "30     4\n",
       "34     4\n",
       "58     4\n",
       "55     4\n",
       "32     4\n",
       "22     4\n",
       "38     4\n",
       "25     4\n",
       "56     4\n",
       "68     3\n",
       "66     3\n",
       "60     3\n",
       "28     3\n",
       "35     3\n",
       "27     3\n",
       "59     3\n",
       "42     2\n",
       "19     2\n",
       "26     2\n",
       "69     2\n",
       "24     2\n",
       "20     1\n",
       "21     1\n",
       "Name: Age, dtype: int64"
      ]
     },
     "execution_count": 187,
     "metadata": {},
     "output_type": "execute_result"
    }
   ],
   "source": [
    "ds['Age'].value_counts()"
   ]
  },
  {
   "cell_type": "code",
   "execution_count": 188,
   "metadata": {},
   "outputs": [
    {
     "data": {
      "text/plain": [
       "0    47\n",
       "Name: Age, dtype: int64"
      ]
     },
     "execution_count": 188,
     "metadata": {},
     "output_type": "execute_result"
    }
   ],
   "source": [
    "ds['Age'].mode()"
   ]
  },
  {
   "cell_type": "code",
   "execution_count": 189,
   "metadata": {},
   "outputs": [
    {
     "data": {
      "text/plain": [
       "S    150\n",
       "M    150\n",
       "Name: Marital_Status, dtype: int64"
      ]
     },
     "execution_count": 189,
     "metadata": {},
     "output_type": "execute_result"
    }
   ],
   "source": [
    "ds['Marital_Status'].value_counts()"
   ]
  },
  {
   "cell_type": "code",
   "execution_count": 190,
   "metadata": {},
   "outputs": [
    {
     "data": {
      "text/plain": [
       "0    M\n",
       "1    S\n",
       "Name: Marital_Status, dtype: object"
      ]
     },
     "execution_count": 190,
     "metadata": {},
     "output_type": "execute_result"
    }
   ],
   "source": [
    "ds['Marital_Status'].mode()"
   ]
  },
  {
   "cell_type": "code",
   "execution_count": 191,
   "metadata": {},
   "outputs": [
    {
     "data": {
      "text/plain": [
       "Yes    287\n",
       "No      13\n",
       "Name: Browsed_Electronics_12Mo, dtype: int64"
      ]
     },
     "execution_count": 191,
     "metadata": {},
     "output_type": "execute_result"
    }
   ],
   "source": [
    "ds['Browsed_Electronics_12Mo'].value_counts()"
   ]
  },
  {
   "cell_type": "code",
   "execution_count": 192,
   "metadata": {},
   "outputs": [
    {
     "data": {
      "text/plain": [
       "0    Yes\n",
       "Name: Browsed_Electronics_12Mo, dtype: object"
      ]
     },
     "execution_count": 192,
     "metadata": {},
     "output_type": "execute_result"
    }
   ],
   "source": [
    "ds['Browsed_Electronics_12Mo'].mode()"
   ]
  },
  {
   "cell_type": "code",
   "execution_count": 193,
   "metadata": {},
   "outputs": [
    {
     "data": {
      "text/plain": [
       "No     151\n",
       "Yes    149\n",
       "Name: Bought_Electronics_12Mo, dtype: int64"
      ]
     },
     "execution_count": 193,
     "metadata": {},
     "output_type": "execute_result"
    }
   ],
   "source": [
    "ds['Bought_Electronics_12Mo'].value_counts()"
   ]
  },
  {
   "cell_type": "code",
   "execution_count": 194,
   "metadata": {},
   "outputs": [
    {
     "data": {
      "text/plain": [
       "0    No\n",
       "Name: Bought_Electronics_12Mo, dtype: object"
      ]
     },
     "execution_count": 194,
     "metadata": {},
     "output_type": "execute_result"
    }
   ],
   "source": [
    "ds['Bought_Electronics_12Mo'].mode()"
   ]
  },
  {
   "cell_type": "code",
   "execution_count": 195,
   "metadata": {},
   "outputs": [
    {
     "data": {
      "text/plain": [
       "Yes    243\n",
       "No      57\n",
       "Name: Bought_Digital_Media_18Mo, dtype: int64"
      ]
     },
     "execution_count": 195,
     "metadata": {},
     "output_type": "execute_result"
    }
   ],
   "source": [
    "ds['Bought_Digital_Media_18Mo'].value_counts()"
   ]
  },
  {
   "cell_type": "code",
   "execution_count": 196,
   "metadata": {},
   "outputs": [
    {
     "data": {
      "text/plain": [
       "0    Yes\n",
       "Name: Bought_Digital_Media_18Mo, dtype: object"
      ]
     },
     "execution_count": 196,
     "metadata": {},
     "output_type": "execute_result"
    }
   ],
   "source": [
    "ds['Bought_Digital_Media_18Mo'].mode()"
   ]
  },
  {
   "cell_type": "code",
   "execution_count": 197,
   "metadata": {},
   "outputs": [
    {
     "data": {
      "text/plain": [
       "No     178\n",
       "Yes    122\n",
       "Name: Bought_Digital_Books, dtype: int64"
      ]
     },
     "execution_count": 197,
     "metadata": {},
     "output_type": "execute_result"
    }
   ],
   "source": [
    "ds['Bought_Digital_Books'].value_counts()"
   ]
  },
  {
   "cell_type": "code",
   "execution_count": 198,
   "metadata": {},
   "outputs": [
    {
     "data": {
      "text/plain": [
       "0    No\n",
       "Name: Bought_Digital_Books, dtype: object"
      ]
     },
     "execution_count": 198,
     "metadata": {},
     "output_type": "execute_result"
    }
   ],
   "source": [
    "ds['Bought_Digital_Books'].mode()"
   ]
  },
  {
   "cell_type": "code",
   "execution_count": 199,
   "metadata": {},
   "outputs": [
    {
     "data": {
      "text/plain": [
       "'Website Account'    136\n",
       "'Bank Transfer'       83\n",
       "'Monthly Billing'     41\n",
       "'Credit Card'         40\n",
       "Name: Payment_Method, dtype: int64"
      ]
     },
     "execution_count": 199,
     "metadata": {},
     "output_type": "execute_result"
    }
   ],
   "source": [
    "ds['Payment_Method'].value_counts()"
   ]
  },
  {
   "cell_type": "code",
   "execution_count": 200,
   "metadata": {},
   "outputs": [
    {
     "data": {
      "text/plain": [
       "0    'Website Account'\n",
       "Name: Payment_Method, dtype: object"
      ]
     },
     "execution_count": 200,
     "metadata": {},
     "output_type": "execute_result"
    }
   ],
   "source": [
    "ds['Payment_Method'].mode()"
   ]
  },
  {
   "cell_type": "code",
   "execution_count": 201,
   "metadata": {},
   "outputs": [
    {
     "data": {
      "text/plain": [
       "46.236666666666665"
      ]
     },
     "execution_count": 201,
     "metadata": {},
     "output_type": "execute_result"
    }
   ],
   "source": [
    "ds['Age'].mean()"
   ]
  },
  {
   "cell_type": "code",
   "execution_count": 202,
   "metadata": {},
   "outputs": [
    {
     "data": {
      "text/plain": [
       "47.0"
      ]
     },
     "execution_count": 202,
     "metadata": {},
     "output_type": "execute_result"
    }
   ],
   "source": [
    "ds['Age'].median()"
   ]
  },
  {
   "cell_type": "code",
   "execution_count": 203,
   "metadata": {},
   "outputs": [
    {
     "data": {
      "text/plain": [
       "167.04413600891857"
      ]
     },
     "execution_count": 203,
     "metadata": {},
     "output_type": "execute_result"
    }
   ],
   "source": [
    "ds['Age'].var()"
   ]
  },
  {
   "cell_type": "code",
   "execution_count": 204,
   "metadata": {},
   "outputs": [
    {
     "data": {
      "text/plain": [
       "12.924555543960441"
      ]
     },
     "execution_count": 204,
     "metadata": {},
     "output_type": "execute_result"
    }
   ],
   "source": [
    "ds['Age'].std()"
   ]
  },
  {
   "cell_type": "code",
   "execution_count": 205,
   "metadata": {},
   "outputs": [
    {
     "name": "stdout",
     "output_type": "stream",
     "text": [
      "\n"
     ]
    },
    {
     "data": {
      "text/plain": [
       "36"
      ]
     },
     "execution_count": 205,
     "metadata": {},
     "output_type": "execute_result"
    }
   ],
   "source": [
    "x=(25*ds['Age'].count())/100\n",
    "s=sorted(ds['Age'])\n",
    "print()\n",
    "q1=s[int(x)-1]\n",
    "q1"
   ]
  },
  {
   "cell_type": "code",
   "execution_count": 206,
   "metadata": {},
   "outputs": [
    {
     "data": {
      "text/plain": [
       "56"
      ]
     },
     "execution_count": 206,
     "metadata": {},
     "output_type": "execute_result"
    }
   ],
   "source": [
    "x=(75*ds['Age'].count())/100\n",
    "s=sorted(ds['Age'])\n",
    "q3=s[int(x)-1]\n",
    "q3"
   ]
  },
  {
   "cell_type": "code",
   "execution_count": 207,
   "metadata": {},
   "outputs": [
    {
     "name": "stdout",
     "output_type": "stream",
     "text": [
      "max of the original data =  69\n",
      "min of the original data =  17\n",
      "**********************************\n",
      "max in five number summary =  86.0\n",
      "min in five number summary =  6.0\n",
      "[]\n",
      "the number of outlier =  0\n"
     ]
    },
    {
     "data": {
      "text/plain": [
       "Text(0.5, 1.0, '(no outlier)')"
      ]
     },
     "execution_count": 207,
     "metadata": {},
     "output_type": "execute_result"
    },
    {
     "data": {
      "image/png": "[encoded data removed]",
      "text/plain": [
       "<Figure size 640x480 with 2 Axes>"
      ]
     },
     "metadata": {},
     "output_type": "display_data"
    }
   ],
   "source": [
    "print(\"max of the original data = \",ds['Age'].max())\n",
    "print(\"min of the original data = \",ds['Age'].min())\n",
    "print(\"*\"*34)\n",
    "iqr=q3-q1\n",
    "maxx=q3+iqr*1.5\n",
    "minn=q1-iqr*1.5\n",
    "outlier=[]\n",
    "for i in ds['Age']:\n",
    "    if i>maxx or i<minn:\n",
    "        outlier.append(i)\n",
    "print(\"max in five number summary = \",maxx) \n",
    "print(\"min in five number summary = \",minn)\n",
    "print(outlier)\n",
    "print(\"the number of outlier = \",len(outlier))\n",
    "fig=plt.figure()\n",
    "ax1=fig.add_subplot(1,2,1)\n",
    "ax2=fig.add_subplot(1,2,2)\n",
    "ax1.scatter(ds['Age'],ds['Payment_Method'],color=\"red\" ,marker='.')\n",
    "ax1.xlable=\"Age\"\n",
    "ax1.ylable=\"Payment_Method\"\n",
    "ax1.set_title('(Age vs Payment Method)')\n",
    "ax2.scatter(ds[\"Age\"],range(300),color=\"red\" ,marker='.')\n",
    "ax2.xlable=\"Age\"\n",
    "ax2.set_xlim([0,86])\n",
    "ax2.set_ylim([1,300])\n",
    "ax2.ylable=\"outlier\"\n",
    "ax2.set_title('(no outlier)')"
   ]
  },
  {
   "cell_type": "code",
   "execution_count": 208,
   "metadata": {},
   "outputs": [
    {
     "name": "stdout",
     "output_type": "stream",
     "text": [
      "the number of people are teenagers in the data =  0\n",
      "the number of people are youngs in the data =  67\n",
      "the number of people are mid_age in the data =  157\n",
      "the number of people are mature in the data =  76\n",
      "the number of people are old in the data =  0\n"
     ]
    }
   ],
   "source": [
    "import csv\n",
    "with open ('idsA3.csv','w',newline=\"\") as a3:\n",
    "    writer=csv.writer(a3)\n",
    "    writer.writerow([\"minmax\",'z_score','Age','discretise','Gender',\"binary\"])\n",
    "    countteen=0\n",
    "    countyong=0\n",
    "    countmid=0\n",
    "    countmat=0\n",
    "    countold=0\n",
    "    for no , g in zip(ds['Age'],ds['Gender']):\n",
    "        minmax= ((no-ds['Age'].min())/(ds['Age'].max()-ds['Age'].min()))\n",
    "        zscor= (no-ds['Age'].mean())/ds['Age'].std()\n",
    "        if no<=16 and no>1:\n",
    "            agedsc=\"teenager\"\n",
    "            countteen+=1\n",
    "        elif no>=17 and no<=35:\n",
    "            agedsc=\"young\"\n",
    "            countyong+=1\n",
    "        elif no>=36 and no<=55:\n",
    "            agedsc=\"mid_age\"\n",
    "            countmid+=1\n",
    "        elif no>=56 and no<=70:\n",
    "            agedsc=\"mature\"\n",
    "            countmat+=1\n",
    "        elif no >=71:\n",
    "            agedsc=\"old\"\n",
    "            countold+=1\n",
    "        if g == \"F\":\n",
    "           by=1\n",
    "        else:\n",
    "           by=0\n",
    "        writer.writerow([f\"{minmax:.3f}\",f\"{zscor:.3f}\",no,agedsc,g,by])\n",
    "    print(\"the number of people are teenagers in the data = \",countteen)\n",
    "    print(\"the number of people are youngs in the data = \",countyong)\n",
    "    print(\"the number of people are mid_age in the data = \",countmid)\n",
    "    print(\"the number of people are mature in the data = \",countmat)\n",
    "    print(\"the number of people are old in the data = \",countold)"
   ]
  }
 ],
 "metadata": {
  "kernelspec": {
   "display_name": "Python 3 (ipykernel)",
   "language": "python",
   "name": "python3"
  },
  "language_info": {
   "codemirror_mode": {
    "name": "ipython",
    "version": 3
   },
   "file_extension": ".py",
   "mimetype": "text/x-python",
   "name": "python",
   "nbconvert_exporter": "python",
   "pygments_lexer": "ipython3",
   "version": "3.9.13"
  }
 },
 "nbformat": 4,
 "nbformat_minor": 4
}
